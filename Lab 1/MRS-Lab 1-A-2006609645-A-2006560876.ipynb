{
 "cells": [
  {
   "cell_type": "markdown",
   "metadata": {},
   "source": [
    "### A. Readme First\n",
    "- Apabila kalian pengguna Ubuntu dari versi 14.04 hingga latest version, kalian bisa langsung menjalankan `Cell` &#8594; `Run All`.\n",
    "- Apabila kalian bukan salah satu pengguna Ubuntu versi 14.04 hingga latest version, diharapkan untuk mengunduh dan mengekstrasi `Tugas Lab 1 - Images` dan melakukan ekstrasi hasilnya tepat di sebelah `MRS-Lab 1-A-2006609645-A-2006560876.ipynb` lalu menjalankan `Cell` &#8594; `Run All`."
   ]
  },
  {
   "cell_type": "markdown",
   "metadata": {},
   "source": [
    "### B. Persiapan Lingkungan Laboratorium\n",
    "- Melakukan _install package_/_dependency_ yang diperlukan untuk `Tugas Laboratorium 1` kali ini.\n",
    "- Melakukan _import library_ yang akan digunakan pada `Tugas Laboratorium 1` kali ini.\n",
    "- Mengunduh dan mengekstrasi dokumen pendukung untuk tugas ini."
   ]
  },
  {
   "cell_type": "markdown",
   "metadata": {},
   "source": [
    "#### 1. Instalasi _Package_/_Dependency_\n",
    "_Install dependency_ tidaklah wajib. Tetapi bisa jadi ada beberapa _dependency_ di bawah ini yang belum terinstall."
   ]
  },
  {
   "cell_type": "code",
   "execution_count": null,
   "metadata": {},
   "outputs": [
    {
     "name": "stdout",
     "output_type": "stream",
     "text": [
      "Collecting numpy\n",
      "  Using cached https://files.pythonhosted.org/packages/b8/e5/a64ef44a85397ba3c377f6be9c02f3cb3e18023f8c89850dd319e7945521/numpy-1.19.2-cp36-cp36m-manylinux1_x86_64.whl\n",
      "Collecting scikit-image\n",
      "  Using cached https://files.pythonhosted.org/packages/0e/ba/53e1bfbdfd0f94514d71502e3acea494a8b4b57c457adbc333ef386485da/scikit_image-0.17.2-cp36-cp36m-manylinux1_x86_64.whl\n",
      "Collecting matplotlib\n",
      "  Using cached https://files.pythonhosted.org/packages/cd/d6/8c4dfb23151d5a494c66ebbfdb5c8c433b44ec07fae52da5939fcda0943f/matplotlib-3.3.2-cp36-cp36m-manylinux1_x86_64.whl\n",
      "Collecting gdown\n",
      "Collecting pillow!=7.1.0,!=7.1.1,>=4.3.0 (from scikit-image)\n",
      "  Using cached https://files.pythonhosted.org/packages/30/bf/92385b4262178ca22b34f82e0e09c2922eb351fe39f3cc7b8ba9ea555b41/Pillow-7.2.0-cp36-cp36m-manylinux1_x86_64.whl\n",
      "Collecting scipy>=1.0.1 (from scikit-image)\n",
      "  Using cached https://files.pythonhosted.org/packages/2b/a8/f4c66eb529bb252d50e83dbf2909c6502e2f857550f22571ed8556f62d95/scipy-1.5.2-cp36-cp36m-manylinux1_x86_64.whl\n",
      "Collecting PyWavelets>=1.1.1 (from scikit-image)\n",
      "  Using cached https://files.pythonhosted.org/packages/59/bb/d2b85265ec9fa3c1922210c9393d4cdf7075cc87cce6fe671d7455f80fbc/PyWavelets-1.1.1-cp36-cp36m-manylinux1_x86_64.whl\n",
      "Collecting networkx>=2.0 (from scikit-image)\n",
      "  Using cached https://files.pythonhosted.org/packages/9b/cd/dc52755d30ba41c60243235460961fc28022e5b6731f16c268667625baea/networkx-2.5-py3-none-any.whl\n",
      "Collecting imageio>=2.3.0 (from scikit-image)\n",
      "  Using cached https://files.pythonhosted.org/packages/6e/57/5d899fae74c1752f52869b613a8210a2480e1a69688e65df6cb26117d45d/imageio-2.9.0-py3-none-any.whl\n",
      "Collecting tifffile>=2019.7.26 (from scikit-image)\n",
      "  Using cached https://files.pythonhosted.org/packages/42/6b/93a8ee61c6fbe20fa9c17928bd3b80484902b7fd454cecaffba42f5052cb/tifffile-2020.9.3-py3-none-any.whl\n",
      "Collecting cycler>=0.10 (from matplotlib)\n",
      "  Using cached https://files.pythonhosted.org/packages/f7/d2/e07d3ebb2bd7af696440ce7e754c59dd546ffe1bbe732c8ab68b9c834e61/cycler-0.10.0-py2.py3-none-any.whl\n",
      "Collecting pyparsing!=2.0.4,!=2.1.2,!=2.1.6,>=2.0.3 (from matplotlib)\n",
      "  Using cached https://files.pythonhosted.org/packages/8a/bb/488841f56197b13700afd5658fc279a2025a39e22449b7cf29864669b15d/pyparsing-2.4.7-py2.py3-none-any.whl\n",
      "Collecting certifi>=2020.06.20 (from matplotlib)\n",
      "  Using cached https://files.pythonhosted.org/packages/5e/c4/6c4fe722df5343c33226f0b4e0bb042e4dc13483228b4718baf286f86d87/certifi-2020.6.20-py2.py3-none-any.whl\n",
      "Collecting kiwisolver>=1.0.1 (from matplotlib)\n",
      "  Using cached https://files.pythonhosted.org/packages/ae/23/147de658aabbf968324551ea22c0c13a00284c4ef49a77002e91f79657b7/kiwisolver-1.2.0-cp36-cp36m-manylinux1_x86_64.whl\n",
      "Collecting python-dateutil>=2.1 (from matplotlib)\n",
      "  Using cached https://files.pythonhosted.org/packages/d4/70/d60450c3dd48ef87586924207ae8907090de0b306af2bce5d134d78615cb/python_dateutil-2.8.1-py2.py3-none-any.whl\n",
      "Collecting filelock (from gdown)\n",
      "  Using cached https://files.pythonhosted.org/packages/93/83/71a2ee6158bb9f39a90c0dea1637f81d5eef866e188e1971a1b1ab01a35a/filelock-3.0.12-py3-none-any.whl\n",
      "Collecting requests[socks] (from gdown)\n",
      "  Using cached https://files.pythonhosted.org/packages/45/1e/0c169c6a5381e241ba7404532c16a21d86ab872c9bed8bdcd4c423954103/requests-2.24.0-py2.py3-none-any.whl\n",
      "Collecting tqdm (from gdown)\n",
      "  Using cached https://files.pythonhosted.org/packages/0a/0e/ea53a3d6f1eb2cc31162c9ae89555cc26a3986e5559781f0b0df75aea5cf/tqdm-4.50.0-py2.py3-none-any.whl\n",
      "Collecting six (from gdown)\n",
      "  Using cached https://files.pythonhosted.org/packages/ee/ff/48bde5c0f013094d729fe4b0316ba2a24774b3ff1c52d924a8a4cb04078a/six-1.15.0-py2.py3-none-any.whl\n",
      "Collecting decorator>=4.3.0 (from networkx>=2.0->scikit-image)\n",
      "  Using cached https://files.pythonhosted.org/packages/ed/1b/72a1821152d07cf1d8b6fce298aeb06a7eb90f4d6d41acec9861e7cc6df0/decorator-4.4.2-py2.py3-none-any.whl\n",
      "Collecting chardet<4,>=3.0.2 (from requests[socks]->gdown)\n",
      "  Using cached https://files.pythonhosted.org/packages/bc/a9/01ffebfb562e4274b6487b4bb1ddec7ca55ec7510b22e4c51f14098443b8/chardet-3.0.4-py2.py3-none-any.whl\n",
      "Collecting urllib3!=1.25.0,!=1.25.1,<1.26,>=1.21.1 (from requests[socks]->gdown)\n",
      "  Using cached https://files.pythonhosted.org/packages/9f/f0/a391d1463ebb1b233795cabfc0ef38d3db4442339de68f847026199e69d7/urllib3-1.25.10-py2.py3-none-any.whl\n",
      "Collecting idna<3,>=2.5 (from requests[socks]->gdown)\n",
      "  Using cached https://files.pythonhosted.org/packages/a2/38/928ddce2273eaa564f6f50de919327bf3a00f091b5baba8dfa9460f3a8a8/idna-2.10-py2.py3-none-any.whl\n",
      "Collecting PySocks!=1.5.7,>=1.5.6; extra == \"socks\" (from requests[socks]->gdown)\n",
      "  Using cached https://files.pythonhosted.org/packages/8d/59/b4572118e098ac8e46e399a1dd0f2d85403ce8bbaad9ec79373ed6badaf9/PySocks-1.7.1-py3-none-any.whl\n",
      "Installing collected packages: numpy, pillow, scipy, PyWavelets, decorator, networkx, six, cycler, pyparsing, certifi, kiwisolver, python-dateutil, matplotlib, imageio, tifffile, scikit-image, filelock, chardet, urllib3, idna, PySocks, requests, tqdm, gdown\n"
     ]
    }
   ],
   "source": [
    "pip install numpy scikit-image matplotlib gdown"
   ]
  },
  {
   "cell_type": "markdown",
   "metadata": {},
   "source": [
    "#### 2. Melakukan _Import Library_ "
   ]
  },
  {
   "cell_type": "code",
   "execution_count": null,
   "metadata": {},
   "outputs": [],
   "source": [
    "from skimage import color, exposure, filters, io, morphology, util\n",
    "from skimage.transform import rescale\n",
    "import matplotlib.pyplot as plt\n",
    "import numpy as np\n",
    "import os\n",
    "import sys"
   ]
  },
  {
   "cell_type": "markdown",
   "metadata": {},
   "source": [
    "#### 3. Unduh dan Ekstrasi Dokumen Pendukung"
   ]
  },
  {
   "cell_type": "code",
   "execution_count": null,
   "metadata": {},
   "outputs": [],
   "source": [
    "os.system('gdown https://drive.google.com/uc?id=15XktpGOWYAEhrf8EmP584jlsES0KleME')\n",
    "os.system('unzip Tugas\\ Lab\\ 1\\ -\\ Images.zip')"
   ]
  },
  {
   "cell_type": "markdown",
   "metadata": {},
   "source": [
    "### C. Soal"
   ]
  },
  {
   "cell_type": "markdown",
   "metadata": {},
   "source": [
    "1. [40] Diberikan citra `gedung.jpg` yang berukuran $603 \\times 910$ \\\n",
    "![Gedung.jpg](Citra%20Lab%201/gedung.jpg)\n",
    "    - [5] Tampilkan histogram citra tersebut dengan range intensitas $0-255$.\n",
    "    - [10] Lakukan _histogram equalization_ terhadap citra tersebut kemudian tampilkan histogramnya.\n",
    "    - [10] Lakukan _contrast streching_ terhadap citra asli kemudian tampilkan histogramnya.\n",
    "    - [15] Coba ceritakan perbedaan apa yang dapat anda temukan antara metode _histogram equalization_ dan _contrast stretching_."
   ]
  },
  {
   "cell_type": "markdown",
   "metadata": {},
   "source": [
    "##### a. Menampilkan Histogram Citra "
   ]
  },
  {
   "cell_type": "code",
   "execution_count": null,
   "metadata": {},
   "outputs": [],
   "source": [
    "basePath = 'Citra Lab 1/'\n",
    "def getPath(fileName):\n",
    "    return basePath + fileName"
   ]
  },
  {
   "cell_type": "code",
   "execution_count": null,
   "metadata": {
    "scrolled": true
   },
   "outputs": [],
   "source": [
    "## Membaca citra gedung\n",
    "citra_gedung = io.imread(getPath('gedung.jpg'))\n",
    "\n",
    "## Mengubah citra gedung menjadi abu-abu\n",
    "citra_gedung_gray = util.img_as_ubyte(color.rgb2gray(citra_gedung))\n",
    "\n",
    "## Menampilkan histogram citra\n",
    "plt.hist(citra_gedung_gray.flatten(), 256, range=(0,256))\n",
    "plt.title('Histogram Citra gedung.jpg')\n",
    "\n",
    "plt.show()"
   ]
  },
  {
   "cell_type": "markdown",
   "metadata": {},
   "source": [
    "##### b. Melakukan Histogram Equalization "
   ]
  },
  {
   "cell_type": "code",
   "execution_count": null,
   "metadata": {},
   "outputs": [],
   "source": [
    "## Melakukan histogram equalization pada citra_gedung dan menyimpannya pada variabel eq_citra_gedung\n",
    "eq_citra_gedung = util.img_as_ubyte(exposure.equalize_hist(citra_gedung_gray))\n",
    "\n",
    "## Menampilkan histogram dari citra\n",
    "plt.hist(eq_citra_gedung.flatten(), 256, range=(0,256))\n",
    "plt.title('Histogram Citra Gedung - Histogram Equalization')\n",
    "\n",
    "plt.show()"
   ]
  },
  {
   "cell_type": "markdown",
   "metadata": {},
   "source": [
    "##### c. Melakukan _Contrast Stretching_"
   ]
  },
  {
   "cell_type": "code",
   "execution_count": null,
   "metadata": {},
   "outputs": [],
   "source": [
    "## Melakukan contrast stretching pada citra_gedung dan menyimpannya pada variabel eq_citra_gedung\n",
    "mn = min(citra_gedung.flatten())\n",
    "mx = max(citra_gedung.flatten())\n",
    "b = int(np.floor(255 / (mx-mn)))\n",
    "cs_citra_gedung = (citra_gedung - mn) * b\n",
    "\n",
    "## Menampilkan histogram dari citra\n",
    "plt.hist(cs_citra_gedung.flatten(), 256, range=(0,256))\n",
    "plt.title('Histogram Citra Gedung - Contrast Stretching')\n",
    "\n",
    "plt.show()"
   ]
  },
  {
   "cell_type": "markdown",
   "metadata": {},
   "source": [
    "##### d. Perbedaan _Histogram Equalization_ dengan _Contrast Stretching_"
   ]
  },
  {
   "cell_type": "markdown",
   "metadata": {},
   "source": [
    "1. Berdasarkan histogram, kita dapat melihat bahwa histogram contrast strecthing hanya memetakan satu nilai dari yang awalnya berada pada range $[\\text{old_minimum}, \\text{old_maximum}]$ menjadi $[\\text{new_minimum}, \\text{new_maximum}]$ menggunakan _linear normalization_. Singkatnya, _contrast streching_ memetakan satu-satu antara nilai _contrast_ pada citra sebelum dilakukan _contrast stretching_ dengan citra setelah dilakukan _contrast strecthing_. Sedangkan untuk _histogram equalization_ merupakan _non linear normalization_ yang menyebabkan histogram pada citra setelah dilakukan _histogram equalization_ tidak dapat di-restore ke citra sebelum dilakukannya _histogram equalization_.\n",
    "2. Kemudian untuk _histogram equalization_, hasil histogram seperti \"diratakan\"/di-flatten dari histogram sebelumnya sehingga nilai tidak terlalu berkumpul pada satu nilai tertentu. Sedangkan _constrast streching_, hasil normalisasi tidak mengakibatkan nilai menjadi rata dan malah persebarannya tetap dikarenakan suatu nilai pada citra awal hanya dipetakan ke nilai baru pada citra baru dengan menggunakan hubungan `one-to-one`."
   ]
  },
  {
   "cell_type": "markdown",
   "metadata": {},
   "source": [
    "2. [30] Diberikan citra `bird.jpg` yang berukuran $484 \\times 700$ \\\n",
    "![Gedung.jpg](Citra%20Lab%201/bird.jpg)\n",
    "    - [10] Gunakan Sobel _spatial filter_ dan Prewitt _spatial filter_ untuk menentukan dan menampilkan _horizontal edge_ dari citra tersebut.\n",
    "    - [10] Gunakan Sobel _spatial filter_ dan Prewitt _spatial filter_ untuk menentukan dan menampilkan _vertical edge_ dari citra tersebut.\n",
    "    - [10] Berdasarkan dua hasil sebelumnya, temukan dan tampilkan _edge_ keseluruhan dari citra."
   ]
  },
  {
   "cell_type": "markdown",
   "metadata": {},
   "source": [
    "##### A. Sobel _spatial filter_ dan Prewitt _spatial filter_ untuk _Horizontal Edge_ "
   ]
  },
  {
   "cell_type": "code",
   "execution_count": null,
   "metadata": {
    "scrolled": true
   },
   "outputs": [],
   "source": [
    "## Membaca citra burung\n",
    "bird = io.imread(getPath('bird.jpg'))\n",
    "\n",
    "## Mengubah citra burung menjadi abu-abu\n",
    "bird_gray = color.rgb2gray(bird)\n",
    "\n",
    "## Mendapatkan horizontal edge pada citra burung menggunakan Prewitt spatial filter\n",
    "bird_gray_horizontal_edge_prewitt = util.img_as_ubyte(filters.prewitt_h(bird_gray))\n",
    "\n",
    "## Mendapatkan horizontal edge pada citra burung menggunakan Sobel spatial filter\n",
    "bird_gray_horizontal_edge_sobel = util.img_as_ubyte(filters.sobel_h(bird_gray))\n",
    "\n",
    "plt.subplots(figsize=(10,10))\n",
    "## Menampilkan Citra Horizontal Edge Sobel pada Citra Burung\n",
    "plt.subplot(1,2,1)\n",
    "plt.imshow(bird_gray_horizontal_edge_sobel, cmap='gray')\n",
    "plt.title('Citra Horizontal Edge Sobel')\n",
    "plt.axis('off')\n",
    "\n",
    "## Menampilkan Citra Horizontal Edge Prewitt pada Citra Burung\n",
    "plt.subplot(1,2,2)\n",
    "plt.imshow(bird_gray_horizontal_edge_prewitt, cmap='gray')\n",
    "plt.title('Citra Horizontal Edge Prewitt')\n",
    "plt.axis('off')\n",
    "\n",
    "plt.show()"
   ]
  },
  {
   "cell_type": "markdown",
   "metadata": {},
   "source": [
    "##### B. Sobel _spatial filter_ dan Prewitt _spatial filter_ untuk _Vertical Edge_"
   ]
  },
  {
   "cell_type": "code",
   "execution_count": null,
   "metadata": {
    "scrolled": true
   },
   "outputs": [],
   "source": [
    "## Mendapatkan vertikal edge pada citra burung menggunakan Prewitt spatial filter\n",
    "bird_gray_vertikal_edge_prewitt = util.img_as_ubyte(filters.prewitt_v(bird_gray))\n",
    "\n",
    "## Mendapatkan vertikal edge pada citra burung menggunakan Sobel spatial filter\n",
    "bird_gray_vertikal_edge_sobel = util.img_as_ubyte(filters.sobel_v(bird_gray))\n",
    "\n",
    "plt.subplots(figsize=(10,10))\n",
    "## Menampilkan Citra Vertikal Edge Sobel pada Citra Burung\n",
    "plt.subplot(1,2,1)\n",
    "plt.imshow(bird_gray_vertikal_edge_sobel, cmap='gray')\n",
    "plt.title('Citra Vertikal Edge Sobel')\n",
    "plt.axis('off')\n",
    "\n",
    "## Menampilkan Citra Vertikal Edge Prewitt pada Citra Burung\n",
    "plt.subplot(1,2,2)\n",
    "plt.imshow(bird_gray_vertikal_edge_prewitt, cmap='gray')\n",
    "plt.title('Citra Vertikal Edge Prewitt')\n",
    "plt.axis('off')\n",
    "\n",
    "plt.show()"
   ]
  },
  {
   "cell_type": "markdown",
   "metadata": {},
   "source": [
    "##### C. Sobel _spatial filter_ dan Prewitt _spatial filter_ untuk Kedua Edge "
   ]
  },
  {
   "cell_type": "code",
   "execution_count": null,
   "metadata": {},
   "outputs": [],
   "source": [
    "## Mendapatkan gabungan edge pada citra burung menggunakan Prewitt spatial filter\n",
    "bird_gray_combined_edge_prewitt = np.bitwise_or(bird_gray_horizontal_edge_prewitt, bird_gray_vertikal_edge_prewitt)\n",
    "\n",
    "## Mendapatkan gabungan edge pada citra burung menggunakan Sobel spatial filter\n",
    "bird_gray_combined_edge_sobel = np.bitwise_or(bird_gray_horizontal_edge_sobel, bird_gray_vertikal_edge_sobel)\n",
    "\n",
    "plt.subplots(figsize=(10,10))\n",
    "## Menampilkan Citra Combined Edge Sobel pada Citra Burung\n",
    "plt.subplot(1,2,1)\n",
    "plt.imshow(bird_gray_combined_edge_sobel, cmap='gray')\n",
    "plt.title('Citra Combined Edge Sobel')\n",
    "plt.axis('off')\n",
    "\n",
    "## Menampilkan Citra Combined Edge Prewitt pada Citra Burung\n",
    "plt.subplot(1,2,2)\n",
    "plt.imshow(bird_gray_combined_edge_prewitt, cmap='gray')\n",
    "plt.title('Citra Combined Edge Prewitt')\n",
    "plt.axis('off')\n",
    "\n",
    "plt.show()"
   ]
  },
  {
   "cell_type": "markdown",
   "metadata": {},
   "source": [
    "3. [30] Diberikan gambar `noisy_statue.jpg` sebagai berikut\n",
    "![noisy_statue.jpg](Citra%20Lab%201/noisy_statue.jpg)\n",
    "    - [7.5] Terapkan _median filter_ pada citra tersebut dengan ukuran kernel $9 \\times 9$.\n",
    "    - [7.5] Terapkan _mean filter_ pada citra tersebut dengan ukuran kernel $9 \\times 9$.\n",
    "    - [15] Ceritakan perbedaan citra yang dihasilkan pada dua hasil sebelumnya. Filter manakah yang hasilnya lebih baik menurut Anda? Berikan pula alasannya."
   ]
  },
  {
   "cell_type": "markdown",
   "metadata": {},
   "source": [
    "##### a. Menerapkan _median filter_ pada citra "
   ]
  },
  {
   "cell_type": "code",
   "execution_count": null,
   "metadata": {
    "scrolled": true
   },
   "outputs": [],
   "source": [
    "## Membaca citra noisy_statue\n",
    "noisy_statue = io.imread(getPath('noisy_statue.jpg'))\n",
    "gray_noisy_statue = color.rgb2gray(noisy_statue)\n",
    "\n",
    "## Menerapkan median filter\n",
    "median_filter_citra = filters.rank.median(image=gray_noisy_statue,selem=morphology.square(9))\n",
    "\n",
    "## Menampilkan citra setelah diterapkan median filter\n",
    "plt.subplots(figsize=(20,10))\n",
    "plt.imshow(median_filter_citra, cmap='gray')\n",
    "plt.title('Hasil Median Filter dari Citra Noisy Statue')\n",
    "plt.axis('off')\n",
    "\n",
    "plt.show()"
   ]
  },
  {
   "cell_type": "markdown",
   "metadata": {},
   "source": [
    "##### b. Menerapkan _median filter_ pada citra "
   ]
  },
  {
   "cell_type": "code",
   "execution_count": null,
   "metadata": {},
   "outputs": [],
   "source": [
    "## Membaca citra noisy_statue\n",
    "noisy_statue = io.imread(getPath('noisy_statue.jpg'))\n",
    "gray_noisy_statue = color.rgb2gray(noisy_statue)\n",
    "\n",
    "## Menerapkan mean filter\n",
    "mean_filter_citra = filters.rank.mean(image=gray_noisy_statue,selem=morphology.square(9))\n",
    "\n",
    "plt.subplots(figsize=(20,10))\n",
    "## Menampilkan citra setelah diterapkan median filter\n",
    "plt.imshow(mean_filter_citra, cmap='gray')\n",
    "plt.title('Hasil Mean Filter dari Citra Noisy Statue')\n",
    "plt.axis('off')\n",
    "\n",
    "plt.show()"
   ]
  },
  {
   "cell_type": "markdown",
   "metadata": {},
   "source": [
    "##### c. Perbandingan hasil _mean filter_ dengan _median filter_"
   ]
  },
  {
   "cell_type": "code",
   "execution_count": null,
   "metadata": {},
   "outputs": [],
   "source": [
    "## Membandingkan dua citra dengan bantuan matplotlib.pyplot.subplot\n",
    "plt.subplots(figsize=(20,10))\n",
    "\n",
    "## Menyisipkan citra hasil median filter\n",
    "plt.subplot(1,2,1)\n",
    "plt.imshow(median_filter_citra, cmap='gray')\n",
    "plt.title('Hasil Median Filter dari Citra Noisy Statue')\n",
    "plt.axis('off')\n",
    "\n",
    "## Menyisipkan citra hasil mean filter\n",
    "plt.subplot(1,2,2)\n",
    "plt.imshow(mean_filter_citra, cmap='gray')\n",
    "plt.title('Hasil Mean Filter dari Citra Noisy Statue')\n",
    "plt.axis('off')\n",
    "\n",
    "plt.show()"
   ]
  },
  {
   "cell_type": "markdown",
   "metadata": {},
   "source": [
    "Menurut kami, citra yang dihasilkan dari _median filter_ lebih baik dibandingkan citra yang dihasilkan dari _mean filter_. Hal ini ditunjukkan dengan meninjau banyaknya pixel yang memiliki warna/background yang kontras dengan sekelilingya sehingga menimbulkan semacam _noise_. Citra dari _median filter_ terlihat menampilkan _noise_ yang lebih sedikit dibandingkan citra dari _mean filter_.\n",
    "\n",
    "Alasan tersebut didukung secara teori yang mana _median filter_ merupakan fungsi normalisasi yang `non-linear` yang memanfaatkan nilai yang ada pada tetangganya untuk dijadikan nilai pada piksel saat ini. _Median filter_ tidak menghasilkan nilai piksel yang tidak realistis/_exist_."
   ]
  },
  {
   "cell_type": "code",
   "execution_count": null,
   "metadata": {},
   "outputs": [],
   "source": []
  }
 ],
 "metadata": {
  "kernelspec": {
   "display_name": "Python 3",
   "language": "python",
   "name": "python3"
  },
  "language_info": {
   "codemirror_mode": {
    "name": "ipython",
    "version": 3
   },
   "file_extension": ".py",
   "mimetype": "text/x-python",
   "name": "python",
   "nbconvert_exporter": "python",
   "pygments_lexer": "ipython3",
   "version": "3.6.9"
  }
 },
 "nbformat": 4,
 "nbformat_minor": 4
}
